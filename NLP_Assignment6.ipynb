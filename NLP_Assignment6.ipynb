{
  "nbformat": 4,
  "nbformat_minor": 0,
  "metadata": {
    "colab": {
      "provenance": []
    },
    "kernelspec": {
      "name": "python3",
      "display_name": "Python 3"
    },
    "language_info": {
      "name": "python"
    }
  },
  "cells": [
    {
      "cell_type": "code",
      "execution_count": 4,
      "metadata": {
        "colab": {
          "base_uri": "https://localhost:8080/"
        },
        "id": "6IYE6tF7lLn0",
        "outputId": "bfbea126-0493-4a79-9d05-aa67fbc1675a"
      },
      "outputs": [
        {
          "output_type": "stream",
          "name": "stderr",
          "text": [
            "Device set to use cpu\n",
            "Device set to use cpu\n"
          ]
        },
        {
          "output_type": "stream",
          "name": "stdout",
          "text": [
            "Text: I absolutely love this product! It's amazing.\n",
            " Model 1 (cardiffnlp/twitter-roberta-base-sentiment): {'label': 'POSITIVE', 'score': 0.9922341108322144}\n",
            " Model 2 (distilbert-base-uncased-finetuned-sst-2-english): {'label': 'POSITIVE', 'score': 0.9998855590820312}\n",
            " Ensemble Sentiment: Positive\n",
            "------------------------------------------------------------\n",
            "Text: The experience was terrible, I would not recommend it.\n",
            " Model 1 (cardiffnlp/twitter-roberta-base-sentiment): {'label': 'NEGATIVE', 'score': 0.9805479049682617}\n",
            " Model 2 (distilbert-base-uncased-finetuned-sst-2-english): {'label': 'NEGATIVE', 'score': 0.9979416728019714}\n",
            " Ensemble Sentiment: Negative\n",
            "------------------------------------------------------------\n",
            "Text: The movie was okay, not the best but not the worst either.\n",
            " Model 1 (cardiffnlp/twitter-roberta-base-sentiment): {'label': 'NEUTRAL', 'score': 0.4815260171890259}\n",
            " Model 2 (distilbert-base-uncased-finetuned-sst-2-english): {'label': 'NEGATIVE', 'score': 0.8492290377616882}\n",
            " Ensemble Sentiment: Negative\n",
            "------------------------------------------------------------\n",
            "Text: This service is exceptional and exceeded my expectations.\n",
            " Model 1 (cardiffnlp/twitter-roberta-base-sentiment): {'label': 'POSITIVE', 'score': 0.9690754413604736}\n",
            " Model 2 (distilbert-base-uncased-finetuned-sst-2-english): {'label': 'POSITIVE', 'score': 0.9998416900634766}\n",
            " Ensemble Sentiment: Positive\n",
            "------------------------------------------------------------\n",
            "Text: I'm very disappointed with the quality of the item.\n",
            " Model 1 (cardiffnlp/twitter-roberta-base-sentiment): {'label': 'NEGATIVE', 'score': 0.9795305728912354}\n",
            " Model 2 (distilbert-base-uncased-finetuned-sst-2-english): {'label': 'NEGATIVE', 'score': 0.9998039603233337}\n",
            " Ensemble Sentiment: Negative\n",
            "------------------------------------------------------------\n"
          ]
        }
      ],
      "source": [
        "from transformers import pipeline\n",
        "\n",
        "model1_name = \"cardiffnlp/twitter-roberta-base-sentiment\"\n",
        "sa_pipeline1 = pipeline(\"sentiment-analysis\", model=model1_name)\n",
        "\n",
        "model2_name = \"distilbert-base-uncased-finetuned-sst-2-english\"\n",
        "sa_pipeline2 = pipeline(\"sentiment-analysis\", model=model2_name)\n",
        "\n",
        "label_map = {\n",
        "    \"LABEL_0\": \"NEGATIVE\",\n",
        "    \"LABEL_1\": \"NEUTRAL\",\n",
        "    \"LABEL_2\": \"POSITIVE\"\n",
        "}\n",
        "\n",
        "texts = [\n",
        "    \"I absolutely love this product! It's amazing.\",\n",
        "    \"The experience was terrible, I would not recommend it.\",\n",
        "    \"The movie was okay, not the best but not the worst either.\",\n",
        "    \"This service is exceptional and exceeded my expectations.\",\n",
        "    \"I'm very disappointed with the quality of the item.\"\n",
        "]\n",
        "\n",
        "def ensemble_sentiment(text):\n",
        "    result1 = sa_pipeline1(text)[0]\n",
        "    result2 = sa_pipeline2(text)[0]\n",
        "\n",
        "    label1 = label_map.get(result1[\"label\"], result1[\"label\"])\n",
        "    label2 = result2[\"label\"].capitalize()\n",
        "\n",
        "    if label1 == label2:\n",
        "        final_label = label1\n",
        "    else:\n",
        "        final_label = label1 if result1[\"score\"] >= result2[\"score\"] else label2\n",
        "\n",
        "    return {\n",
        "        \"text\": text,\n",
        "        \"model1\": {\"label\": label1, \"score\": result1[\"score\"]},\n",
        "        \"model2\": result2,\n",
        "        \"ensemble\": final_label\n",
        "    }\n",
        "\n",
        "for text in texts:\n",
        "    result = ensemble_sentiment(text)\n",
        "    print(f\"Text: {result['text']}\")\n",
        "    print(f\" Model 1 ({model1_name}): {result['model1']}\")\n",
        "    print(f\" Model 2 ({model2_name}): {result['model2']}\")\n",
        "    print(f\" Ensemble Sentiment: {result['ensemble']}\")\n",
        "    print(\"-\" * 60)"
      ]
    }
  ]
}