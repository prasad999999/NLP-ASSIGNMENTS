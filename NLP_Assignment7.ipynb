{
  "nbformat": 4,
  "nbformat_minor": 0,
  "metadata": {
    "colab": {
      "provenance": []
    },
    "kernelspec": {
      "name": "python3",
      "display_name": "Python 3"
    },
    "language_info": {
      "name": "python"
    }
  },
  "cells": [
    {
      "cell_type": "markdown",
      "source": [
        "## N-Gram Autocompleter"
      ],
      "metadata": {
        "id": "8J7fIze4jxo3"
      }
    },
    {
      "cell_type": "code",
      "source": [
        "import nltk\n",
        "import random\n",
        "import re\n",
        "from collections import defaultdict\n",
        "from nltk.tokenize import word_tokenize\n",
        "from nltk.util import ngrams\n",
        "from nltk.corpus import reuters"
      ],
      "metadata": {
        "id": "t0H8QO5bkV1b"
      },
      "execution_count": null,
      "outputs": []
    },
    {
      "cell_type": "code",
      "source": [
        "nltk.download(\"punkt\")\n",
        "nltk.download(\"reuters\")"
      ],
      "metadata": {
        "colab": {
          "base_uri": "https://localhost:8080/"
        },
        "id": "qocfC9klmQx5",
        "outputId": "edb5a6c0-8b00-4fbb-89d7-bb5acea438b1"
      },
      "execution_count": null,
      "outputs": [
        {
          "output_type": "stream",
          "name": "stderr",
          "text": [
            "[nltk_data] Downloading package punkt to /root/nltk_data...\n",
            "[nltk_data]   Package punkt is already up-to-date!\n",
            "[nltk_data] Downloading package reuters to /root/nltk_data...\n",
            "[nltk_data]   Package reuters is already up-to-date!\n"
          ]
        },
        {
          "output_type": "execute_result",
          "data": {
            "text/plain": [
              "True"
            ]
          },
          "metadata": {},
          "execution_count": 32
        }
      ]
    },
    {
      "cell_type": "code",
      "source": [
        "corpus = \" \".join(reuters.words()).lower()\n",
        "\n",
        "corpus = re.sub(r\"[^a-z\\s]\", \"\", corpus)\n",
        "\n",
        "tokens = word_tokenize(corpus)\n",
        "\n",
        "n = 2\n",
        "ngrams_list = list(ngrams(tokens, n))\n",
        "\n",
        "ngram_freq = defaultdict(lambda: defaultdict(int))\n",
        "\n",
        "for gram in ngrams_list:\n",
        "    prev_word, next_word = gram[0], gram[1]\n",
        "    ngram_freq[prev_word][next_word] += 1\n",
        "\n",
        "ngram_prob = {}\n",
        "for prev_word in ngram_freq:\n",
        "    total_count = sum(ngram_freq[prev_word].values())\n",
        "    ngram_prob[prev_word] = {word: count / total_count for word, count in ngram_freq[prev_word].items()}\n",
        "\n",
        "def predict_next_word(prev_word, top_k=3):\n",
        "    if prev_word in ngram_prob:\n",
        "        sorted_predictions = sorted(ngram_prob[prev_word].items(), key=lambda x: x[1], reverse=True)\n",
        "        return [word for word, prob in sorted_predictions[:top_k]]\n",
        "    else:\n",
        "        return [\"No prediction available\"]"
      ],
      "metadata": {
        "id": "OIpKTo8Lmbm1"
      },
      "execution_count": null,
      "outputs": []
    },
    {
      "cell_type": "code",
      "source": [
        "input_text = input(\"Enter a word to predict next: \")\n",
        "predictions = predict_next_word(input_text)\n",
        "\n",
        "print(f\"Predictions for '{input_text}': {predictions}\")"
      ],
      "metadata": {
        "colab": {
          "base_uri": "https://localhost:8080/"
        },
        "id": "u6w4V5KXmjNN",
        "outputId": "8088cc23-01f1-4d70-f5de-4a636c817536"
      },
      "execution_count": null,
      "outputs": [
        {
          "output_type": "stream",
          "name": "stdout",
          "text": [
            "Enter a word to predict next: fintech\n",
            "Predictions for 'fintech': ['an', 'shareholders', 'unit']\n"
          ]
        }
      ]
    }
  ]
}