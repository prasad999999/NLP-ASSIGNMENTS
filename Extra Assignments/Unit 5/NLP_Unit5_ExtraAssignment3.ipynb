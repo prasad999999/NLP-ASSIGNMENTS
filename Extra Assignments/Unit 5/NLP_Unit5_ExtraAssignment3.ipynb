{
  "nbformat": 4,
  "nbformat_minor": 0,
  "metadata": {
    "colab": {
      "provenance": []
    },
    "kernelspec": {
      "name": "python3",
      "display_name": "Python 3"
    },
    "language_info": {
      "name": "python"
    }
  },
  "cells": [
    {
      "cell_type": "code",
      "execution_count": null,
      "metadata": {
        "id": "KsKXPzeEhV3R"
      },
      "outputs": [],
      "source": [
        "#Lab Assignment 3: Implementing Rule-Based Machine Translation\n",
        "#•\tDesign a simple rule-based translation system from English to Hindi (or any Indian language).\n",
        "#•\tCreate basic grammar rules for sentence structure transformation.\n",
        "#•\tUse regular expressions and dictionaries for word translation."
      ]
    },
    {
      "cell_type": "code",
      "source": [
        "# Step 1: Define the English to Hindi dictionary\n",
        "translation_dict = {\n",
        "    'i': 'मैं',\n",
        "    'you': 'तुम',\n",
        "    'he': 'वह',\n",
        "    'she': 'वह',\n",
        "    'we': 'हम',\n",
        "    'they': 'वे',\n",
        "    'am': 'हूँ',\n",
        "    'are': 'हो',\n",
        "    'is': 'है',\n",
        "    'was': 'था',\n",
        "    'were': 'थे',\n",
        "    'eat': 'खाता',\n",
        "    'eats': 'खाता',\n",
        "    'ate': 'खाया',\n",
        "    'go': 'जाता',\n",
        "    'goes': 'जाता',\n",
        "    'went': 'गया',\n",
        "    'like': 'पसंद करता',\n",
        "    'likes': 'पसंद करता',\n",
        "    'love': 'प्यार करता',\n",
        "    'loves': 'प्यार करता',\n",
        "    'play': 'खेलता',\n",
        "    'plays': 'खेलता',\n",
        "    'apple': 'सेब',\n",
        "    'mango': 'आम',\n",
        "    'cricket': 'क्रिकेट',\n",
        "    'football': 'फुटबॉल',\n",
        "    'school': 'स्कूल',\n",
        "    'home': 'घर',\n",
        "    'to': 'को',\n",
        "    'the': '',\n",
        "    'a': '',\n",
        "    'an': '',\n",
        "    'and': 'और'\n",
        "}"
      ],
      "metadata": {
        "id": "5NjO8uSBhsRJ"
      },
      "execution_count": null,
      "outputs": []
    },
    {
      "cell_type": "code",
      "source": [
        "# Step 2: Basic function to translate words\n",
        "def translate_word(word):\n",
        "    word = word.lower()\n",
        "    return translation_dict.get(word, word)  # return original if not found"
      ],
      "metadata": {
        "id": "xKKqKE9zhzjp"
      },
      "execution_count": null,
      "outputs": []
    },
    {
      "cell_type": "code",
      "source": [
        "# Step 3: Sentence structure transformation\n",
        "# English: Subject + Verb + Object\n",
        "# Hindi: Subject + Object + Verb (SOV)\n",
        "\n",
        "import re\n",
        "\n",
        "def translate_sentence(sentence):\n",
        "    # Tokenize the sentence\n",
        "    words = re.findall(r'\\w+', sentence.lower())\n",
        "\n",
        "    # Basic grammar assumption: 3-word structure: Subject Verb Object\n",
        "    if len(words) == 3:\n",
        "        subject, verb, obj = words\n",
        "        hindi_subject = translate_word(subject)\n",
        "        hindi_object = translate_word(obj)\n",
        "        hindi_verb = translate_word(verb)\n",
        "\n",
        "        return f\"{hindi_subject} {hindi_object} {hindi_verb}।\"\n",
        "\n",
        "    # If sentence doesn't follow SVO structure, do word-by-word translation\n",
        "    else:\n",
        "        translated_words = [translate_word(word) for word in words]\n",
        "        return ' '.join(translated_words) + '।'"
      ],
      "metadata": {
        "id": "G1BylOalh2yu"
      },
      "execution_count": null,
      "outputs": []
    },
    {
      "cell_type": "code",
      "source": [
        "# Step 4: Test the translation system\n",
        "english_sentences = [\n",
        "    \"I eat mango\",\n",
        "    \"She plays football\",\n",
        "    \"They love cricket\",\n",
        "    \"We go to school\",\n",
        "    \"He likes apple\"\n",
        "]\n",
        "\n",
        "for sentence in english_sentences:\n",
        "    print(f\"English: {sentence}\")\n",
        "    print(f\"Hindi: {translate_sentence(sentence)}\\n\")"
      ],
      "metadata": {
        "colab": {
          "base_uri": "https://localhost:8080/"
        },
        "id": "xdK4ryJfh6-a",
        "outputId": "ffe49e82-f170-4637-9f87-cdd5ecd9b219"
      },
      "execution_count": null,
      "outputs": [
        {
          "output_type": "stream",
          "name": "stdout",
          "text": [
            "English: I eat mango\n",
            "Hindi: मैं आम खाता।\n",
            "\n",
            "English: She plays football\n",
            "Hindi: वह फुटबॉल खेलता।\n",
            "\n",
            "English: They love cricket\n",
            "Hindi: वे क्रिकेट प्यार करता।\n",
            "\n",
            "English: We go to school\n",
            "Hindi: हम जाता को स्कूल।\n",
            "\n",
            "English: He likes apple\n",
            "Hindi: वह सेब पसंद करता।\n",
            "\n"
          ]
        }
      ]
    }
  ]
}