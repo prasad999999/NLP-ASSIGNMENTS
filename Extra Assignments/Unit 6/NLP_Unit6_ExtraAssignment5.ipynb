{
  "nbformat": 4,
  "nbformat_minor": 0,
  "metadata": {
    "colab": {
      "provenance": []
    },
    "kernelspec": {
      "name": "python3",
      "display_name": "Python 3"
    },
    "language_info": {
      "name": "python"
    }
  },
  "cells": [
    {
      "cell_type": "code",
      "execution_count": null,
      "metadata": {
        "id": "oEhl1ciBl-j_"
      },
      "outputs": [],
      "source": [
        "# Lab Assignment 5: Topic Modeling using Gensim\n",
        "# •\tUse the Gensim library to implement Latent Dirichlet Allocation (LDA).\n",
        "# •\tTrain an LDA model on a dataset of news articles.\n",
        "# •\tExtract and visualize the top words from each topic."
      ]
    },
    {
      "cell_type": "code",
      "source": [
        "# Install only necessary packages (without downgrades)\n",
        "!pip install gensim pyLDAvis nltk spacy --quiet\n",
        "!python -m spacy download en_core_web_sm"
      ],
      "metadata": {
        "colab": {
          "base_uri": "https://localhost:8080/"
        },
        "id": "5dgQXpM9mEYI",
        "outputId": "67854459-edd9-48be-ce01-cfa1d4409d82"
      },
      "execution_count": null,
      "outputs": [
        {
          "output_type": "stream",
          "name": "stdout",
          "text": [
            "Collecting en-core-web-sm==3.8.0\n",
            "  Downloading https://github.com/explosion/spacy-models/releases/download/en_core_web_sm-3.8.0/en_core_web_sm-3.8.0-py3-none-any.whl (12.8 MB)\n",
            "\u001b[2K     \u001b[90m━━━━━━━━━━━━━━━━━━━━━━━━━━━━━━━━━━━━━━━━\u001b[0m \u001b[32m12.8/12.8 MB\u001b[0m \u001b[31m32.9 MB/s\u001b[0m eta \u001b[36m0:00:00\u001b[0m\n",
            "\u001b[?25h\u001b[38;5;2m✔ Download and installation successful\u001b[0m\n",
            "You can now load the package via spacy.load('en_core_web_sm')\n",
            "\u001b[38;5;3m⚠ Restart to reload dependencies\u001b[0m\n",
            "If you are in a Jupyter or Colab notebook, you may need to restart Python in\n",
            "order to load all the package's dependencies. You can do this by selecting the\n",
            "'Restart kernel' or 'Restart runtime' option.\n"
          ]
        }
      ]
    },
    {
      "cell_type": "code",
      "source": [
        "import nltk\n",
        "import gensim\n",
        "import pyLDAvis\n",
        "import pyLDAvis.gensim_models as gensimvis\n",
        "import spacy\n",
        "import pandas as pd\n",
        "import re\n",
        "from nltk.corpus import stopwords\n",
        "from gensim import corpora\n",
        "from gensim.models.ldamodel import LdaModel\n",
        "nltk.download('stopwords')"
      ],
      "metadata": {
        "colab": {
          "base_uri": "https://localhost:8080/"
        },
        "id": "KadnfgrZmGUb",
        "outputId": "a6cecb9f-1406-430d-8e26-e4f64e47c19b"
      },
      "execution_count": null,
      "outputs": [
        {
          "output_type": "stream",
          "name": "stderr",
          "text": [
            "[nltk_data] Downloading package stopwords to /root/nltk_data...\n",
            "[nltk_data]   Unzipping corpora/stopwords.zip.\n"
          ]
        },
        {
          "output_type": "execute_result",
          "data": {
            "text/plain": [
              "True"
            ]
          },
          "metadata": {},
          "execution_count": 3
        }
      ]
    },
    {
      "cell_type": "code",
      "source": [
        "# Sample dataset (you can replace it with your own news article data)\n",
        "documents = [\n",
        "    \"The economy is showing signs of recovery after the financial crisis.\",\n",
        "    \"Football teams are preparing for the upcoming world cup season.\",\n",
        "    \"The government announced a new policy on renewable energy.\",\n",
        "    \"Scientists have discovered a new species in the Amazon rainforest.\",\n",
        "    \"A major earthquake has struck the city, causing massive damage.\",\n",
        "    \"The stock market has hit a new high with tech companies leading.\",\n",
        "    \"New studies suggest eating vegetables can improve health.\",\n",
        "    \"Political tensions are rising between neighboring countries.\",\n",
        "    \"SpaceX launched another satellite into orbit successfully.\",\n",
        "    \"Healthcare workers are demanding better working conditions.\"\n",
        "]"
      ],
      "metadata": {
        "id": "3cs2IqgAmQZx"
      },
      "execution_count": null,
      "outputs": []
    },
    {
      "cell_type": "code",
      "source": [
        "# Load Spacy model\n",
        "nlp = spacy.load(\"en_core_web_sm\")\n",
        "stop_words = set(stopwords.words(\"english\"))\n",
        "\n",
        "def preprocess(text):\n",
        "    doc = nlp(text.lower())  # Lowercase + tokenize with spacy\n",
        "    return [token.lemma_ for token in doc if token.is_alpha and token.text not in stop_words and len(token.text) > 2]\n",
        "\n",
        "processed_docs = [preprocess(doc) for doc in documents]"
      ],
      "metadata": {
        "id": "qcnCrj-gmS9w"
      },
      "execution_count": null,
      "outputs": []
    },
    {
      "cell_type": "code",
      "source": [
        "# Create dictionary and corpus\n",
        "dictionary = corpora.Dictionary(processed_docs)\n",
        "corpus = [dictionary.doc2bow(doc) for doc in processed_docs]"
      ],
      "metadata": {
        "id": "-iBziPRwmVn7"
      },
      "execution_count": null,
      "outputs": []
    },
    {
      "cell_type": "code",
      "source": [
        "# Train LDA model\n",
        "lda_model = LdaModel(corpus=corpus, id2word=dictionary, num_topics=3, random_state=42, passes=10)\n",
        "\n",
        "# Print the top words in each topic\n",
        "for idx, topic in lda_model.print_topics():\n",
        "    print(f\"Topic #{idx}: {topic}\")"
      ],
      "metadata": {
        "colab": {
          "base_uri": "https://localhost:8080/"
        },
        "id": "B-logtqcmlR1",
        "outputId": "e171e3e3-7866-4ea9-c4e7-c331f3be7f14"
      },
      "execution_count": null,
      "outputs": [
        {
          "output_type": "stream",
          "name": "stdout",
          "text": [
            "Topic #0: 0.059*\"new\" + 0.034*\"announce\" + 0.034*\"energy\" + 0.034*\"renewable\" + 0.034*\"policy\" + 0.034*\"government\" + 0.034*\"show\" + 0.034*\"economy\" + 0.034*\"crisis\" + 0.034*\"sign\"\n",
            "Topic #1: 0.059*\"new\" + 0.034*\"stock\" + 0.034*\"discover\" + 0.034*\"scientist\" + 0.034*\"specie\" + 0.034*\"market\" + 0.034*\"amazon\" + 0.034*\"rainforest\" + 0.034*\"high\" + 0.034*\"hit\"\n",
            "Topic #2: 0.029*\"football\" + 0.029*\"season\" + 0.029*\"world\" + 0.029*\"strike\" + 0.029*\"city\" + 0.029*\"cup\" + 0.029*\"cause\" + 0.029*\"prepare\" + 0.029*\"team\" + 0.029*\"massive\"\n"
          ]
        }
      ]
    },
    {
      "cell_type": "code",
      "source": [
        "# Visualize the topics\n",
        "pyLDAvis.enable_notebook()\n",
        "vis = gensimvis.prepare(lda_model, corpus, dictionary)\n",
        "vis"
      ],
      "metadata": {
        "colab": {
          "base_uri": "https://localhost:8080/",
          "height": 881
        },
        "id": "7Hu4l3e2mnUb",
        "outputId": "3eb4adb8-5446-4e08-fc1b-33a1e62555ad"
      },
      "execution_count": null,
      "outputs": [
        {
          "output_type": "execute_result",
          "data": {
            "text/plain": [
              "PreparedData(topic_coordinates=              x         y  topics  cluster       Freq\n",
              "topic                                                \n",
              "2     -0.101662 -0.000635       1        1  39.693548\n",
              "1      0.051532 -0.068668       2        1  30.162588\n",
              "0      0.050130  0.069303       3        1  30.143864, topic_info=            Term      Freq     Total Category  logprob  loglift\n",
              "16           new  2.000000  2.000000  Default  30.0000  30.0000\n",
              "13      announce  1.000000  1.000000  Default  29.0000  29.0000\n",
              "14        energy  1.000000  1.000000  Default  28.0000  28.0000\n",
              "18     renewable  1.000000  1.000000  Default  27.0000  27.0000\n",
              "17        policy  1.000000  1.000000  Default  26.0000  26.0000\n",
              "..           ...       ...       ...      ...      ...      ...\n",
              "59        worker  0.164482  1.058160   Topic3  -4.7646  -0.6623\n",
              "56        demand  0.164481  1.058159   Topic3  -4.7647  -0.6623\n",
              "54  successfully  0.164456  1.058161   Topic3  -4.7648  -0.6625\n",
              "50        launch  0.164422  1.058164   Topic3  -4.7650  -0.6627\n",
              "60       working  0.164289  1.058181   Topic3  -4.7658  -0.6635\n",
              "\n",
              "[138 rows x 6 columns], token_table=      Topic      Freq       Term\n",
              "term                            \n",
              "19        2  0.999684     amazon\n",
              "13        3  0.999492   announce\n",
              "49        1  0.945040    another\n",
              "24        1  0.944960      cause\n",
              "25        1  0.944959       city\n",
              "...     ...       ...        ...\n",
              "43        3  0.999503  vegetable\n",
              "58        1  0.945039       well\n",
              "59        1  0.945037     worker\n",
              "60        1  0.945018    working\n",
              "12        1  0.944958      world\n",
              "\n",
              "[62 rows x 3 columns], R=30, lambda_step=0.01, plot_opts={'xlab': 'PC1', 'ylab': 'PC2'}, topic_order=[3, 2, 1])"
            ],
            "text/html": [
              "\n",
              "<link rel=\"stylesheet\" type=\"text/css\" href=\"https://cdn.jsdelivr.net/gh/bmabey/pyLDAvis@3.4.0/pyLDAvis/js/ldavis.v1.0.0.css\">\n",
              "\n",
              "\n",
              "<div id=\"ldavis_el18371341851371667527668676284\" style=\"background-color:white;\"></div>\n",
              "<script type=\"text/javascript\">\n",
              "\n",
              "var ldavis_el18371341851371667527668676284_data = {\"mdsDat\": {\"x\": [-0.10166222969905411, 0.05153249373574815, 0.05012973596330596], \"y\": [-0.0006345821360903358, -0.06866792806549445, 0.06930251020158482], \"topics\": [1, 2, 3], \"cluster\": [1, 1, 1], \"Freq\": [39.69354775566008, 30.162588163644514, 30.14386408069541]}, \"tinfo\": {\"Term\": [\"new\", \"announce\", \"energy\", \"renewable\", \"policy\", \"government\", \"stock\", \"discover\", \"scientist\", \"specie\", \"market\", \"amazon\", \"high\", \"rainforest\", \"hit\", \"tech\", \"company\", \"rise\", \"political\", \"lead\", \"country\", \"neighboring\", \"tension\", \"show\", \"economy\", \"crisis\", \"sign\", \"study\", \"suggest\", \"recovery\", \"football\", \"season\", \"world\", \"strike\", \"city\", \"cup\", \"cause\", \"prepare\", \"team\", \"massive\", \"upcoming\", \"damage\", \"earthquake\", \"major\", \"working\", \"launch\", \"successfully\", \"worker\", \"demand\", \"well\", \"spacex\", \"healthcare\", \"another\", \"condition\", \"orbit\", \"satellite\", \"financial\", \"recovery\", \"sign\", \"crisis\", \"stock\", \"discover\", \"scientist\", \"specie\", \"market\", \"amazon\", \"high\", \"rainforest\", \"hit\", \"tech\", \"company\", \"rise\", \"political\", \"country\", \"lead\", \"neighboring\", \"tension\", \"new\", \"eat\", \"health\", \"vegetable\", \"improve\", \"suggest\", \"study\", \"announce\", \"renewable\", \"energy\", \"government\", \"policy\", \"economy\", \"financial\", \"satellite\", \"orbit\", \"launch\", \"healthcare\", \"spacex\", \"announce\", \"energy\", \"renewable\", \"policy\", \"government\", \"show\", \"economy\", \"crisis\", \"sign\", \"study\", \"suggest\", \"recovery\", \"financial\", \"improve\", \"vegetable\", \"health\", \"eat\", \"new\", \"lead\", \"tech\", \"hit\", \"company\", \"neighboring\", \"tension\", \"market\", \"high\", \"stock\", \"country\", \"rise\", \"political\", \"satellite\", \"orbit\", \"condition\", \"another\", \"well\", \"healthcare\", \"spacex\", \"worker\", \"demand\", \"successfully\", \"launch\", \"working\"], \"Freq\": [2.0, 1.0, 1.0, 1.0, 1.0, 1.0, 1.0, 1.0, 1.0, 1.0, 1.0, 1.0, 1.0, 1.0, 1.0, 1.0, 1.0, 1.0, 1.0, 1.0, 1.0, 1.0, 1.0, 1.0, 1.0, 1.0, 1.0, 1.0, 1.0, 1.0, 0.7307795491265655, 0.730758445121541, 0.7307497385365084, 0.7307468047958996, 0.7307439656920847, 0.7307433505529247, 0.7307274988899578, 0.7307182244841623, 0.7307177513001931, 0.7307154800171412, 0.7307068680689025, 0.7307007166773034, 0.7306974517079162, 0.7306745969222057, 0.7301205458127161, 0.7299537011451902, 0.7299315088170366, 0.7299149946965129, 0.72991319659743, 0.7298980547104169, 0.7298950736514113, 0.729885042151265, 0.7298781336653153, 0.729860815132044, 0.729814632376654, 0.7296310369966199, 0.18440769495400894, 0.18440364923107264, 0.18417501856677365, 0.18414307864885535, 0.6534730123971468, 0.653472365178211, 0.6534527328704911, 0.6534520137383402, 0.653442377367518, 0.653436120917805, 0.6534285700302205, 0.6534313746456091, 0.6534081466771345, 0.6533877233240487, 0.6533849187086601, 0.6533722619828041, 0.6533539241129559, 0.6533473080971675, 0.653339038077432, 0.6533200529886479, 0.6533186147243462, 1.1461974802292585, 0.16543626142566278, 0.16542461148481802, 0.1653209665635679, 0.16515671678029972, 0.1650393364349672, 0.16497905518241707, 0.16377803257717982, 0.1637571777448034, 0.16374595928324917, 0.16374353221223983, 0.16374142875069841, 0.1637402601609532, 0.16374225575267198, 0.1637987256048223, 0.1637891431689114, 0.16378844201506426, 0.16378270693616076, 0.16378026188684763, 0.65357977773327, 0.6535627448813747, 0.6535524676753788, 0.6535391001207267, 0.6535379502235523, 0.6528146649008746, 0.6528117182893654, 0.6527399934531141, 0.6527274883213428, 0.6524949216178269, 0.6524244904158967, 0.6524957840407075, 0.6524906095034229, 0.652290024315069, 0.652123001750492, 0.6520438744511807, 0.6519995315413942, 1.1423519803216542, 0.1639516024685719, 0.16391358399324435, 0.1639005757814593, 0.16389949775285834, 0.16388418974672456, 0.1638701214734819, 0.1638657734247913, 0.16386282681328201, 0.16385325032587672, 0.16385481346734812, 0.16384789611715855, 0.1638429731198808, 0.16469982618621876, 0.16454527281912631, 0.16453224664019792, 0.1645125366839435, 0.16449958237358853, 0.16448864038328867, 0.16448217221168285, 0.1644817949016725, 0.16448071687307153, 0.1644561378209694, 0.16442156903716496, 0.16428888168352884], \"Total\": [2.0, 1.0, 1.0, 1.0, 1.0, 1.0, 1.0, 1.0, 1.0, 1.0, 1.0, 1.0, 1.0, 1.0, 1.0, 1.0, 1.0, 1.0, 1.0, 1.0, 1.0, 1.0, 1.0, 1.0, 1.0, 1.0, 1.0, 1.0, 1.0, 1.0, 1.0582509339590778, 1.0582487068270414, 1.0582477409893551, 1.058247428565564, 1.0582471188335296, 1.058247089245359, 1.0582453704476122, 1.0582444167722393, 1.0582442831225238, 1.0582440853698962, 1.0582432117260094, 1.0582425704328382, 1.0582422000150002, 1.0582397650222004, 1.0581812935152306, 1.0581637121974194, 1.0581614183571917, 1.0581595585954622, 1.0581593971916479, 1.058157799227235, 1.0581575077499419, 1.0581563894707144, 1.0581557585477221, 1.0581538711344074, 1.0581490483646918, 1.058129588787661, 1.0006405602101038, 1.00064010693372, 1.0006159254415368, 1.0006127070853927, 1.0003072606916177, 1.0003129206477672, 1.0003155898047877, 1.000315163841726, 1.0003093655459858, 1.0003165308546955, 1.00031131419356, 1.0003174445733607, 1.0003093693915073, 1.0003101048440752, 1.0003121650062656, 1.0003195940160374, 1.00032228728962, 1.0003217506064743, 1.0003114924344005, 1.0003214940278862, 1.0003232705348153, 2.472067404028511, 1.000498095771152, 1.00049417613048, 1.000497079519554, 1.0004968594122579, 1.0004949586609904, 1.0004937403655114, 1.000507936059221, 1.0005136313342429, 1.0005137310834167, 1.0005169942317984, 1.0005170225241673, 1.0006028926915806, 1.0006405602101038, 1.058129588787661, 1.0581490483646918, 1.0581637121974194, 1.0581563894707144, 1.0581575077499419, 1.000507936059221, 1.0005137310834167, 1.0005136313342429, 1.0005170225241673, 1.0005169942317984, 1.000604433931955, 1.0006028926915806, 1.0006127070853927, 1.0006159254415368, 1.0004937403655114, 1.0004949586609904, 1.00064010693372, 1.0006405602101038, 1.0004968594122579, 1.000497079519554, 1.00049417613048, 1.000498095771152, 2.472067404028511, 1.0003114924344005, 1.0003101048440752, 1.0003093693915073, 1.0003121650062656, 1.0003214940278862, 1.0003232705348153, 1.0003093655459858, 1.00031131419356, 1.0003072606916177, 1.0003217506064743, 1.0003195940160374, 1.00032228728962, 1.058129588787661, 1.0581490483646918, 1.0581538711344074, 1.0581557585477221, 1.058157799227235, 1.0581563894707144, 1.0581575077499419, 1.0581595585954622, 1.0581593971916479, 1.0581614183571917, 1.0581637121974194, 1.0581812935152306], \"Category\": [\"Default\", \"Default\", \"Default\", \"Default\", \"Default\", \"Default\", \"Default\", \"Default\", \"Default\", \"Default\", \"Default\", \"Default\", \"Default\", \"Default\", \"Default\", \"Default\", \"Default\", \"Default\", \"Default\", \"Default\", \"Default\", \"Default\", \"Default\", \"Default\", \"Default\", \"Default\", \"Default\", \"Default\", \"Default\", \"Default\", \"Topic1\", \"Topic1\", \"Topic1\", \"Topic1\", \"Topic1\", \"Topic1\", \"Topic1\", \"Topic1\", \"Topic1\", \"Topic1\", \"Topic1\", \"Topic1\", \"Topic1\", \"Topic1\", \"Topic1\", \"Topic1\", \"Topic1\", \"Topic1\", \"Topic1\", \"Topic1\", \"Topic1\", \"Topic1\", \"Topic1\", \"Topic1\", \"Topic1\", \"Topic1\", \"Topic1\", \"Topic1\", \"Topic1\", \"Topic1\", \"Topic2\", \"Topic2\", \"Topic2\", \"Topic2\", \"Topic2\", \"Topic2\", \"Topic2\", \"Topic2\", \"Topic2\", \"Topic2\", \"Topic2\", \"Topic2\", \"Topic2\", \"Topic2\", \"Topic2\", \"Topic2\", \"Topic2\", \"Topic2\", \"Topic2\", \"Topic2\", \"Topic2\", \"Topic2\", \"Topic2\", \"Topic2\", \"Topic2\", \"Topic2\", \"Topic2\", \"Topic2\", \"Topic2\", \"Topic2\", \"Topic2\", \"Topic2\", \"Topic2\", \"Topic2\", \"Topic2\", \"Topic2\", \"Topic3\", \"Topic3\", \"Topic3\", \"Topic3\", \"Topic3\", \"Topic3\", \"Topic3\", \"Topic3\", \"Topic3\", \"Topic3\", \"Topic3\", \"Topic3\", \"Topic3\", \"Topic3\", \"Topic3\", \"Topic3\", \"Topic3\", \"Topic3\", \"Topic3\", \"Topic3\", \"Topic3\", \"Topic3\", \"Topic3\", \"Topic3\", \"Topic3\", \"Topic3\", \"Topic3\", \"Topic3\", \"Topic3\", \"Topic3\", \"Topic3\", \"Topic3\", \"Topic3\", \"Topic3\", \"Topic3\", \"Topic3\", \"Topic3\", \"Topic3\", \"Topic3\", \"Topic3\", \"Topic3\", \"Topic3\"], \"logprob\": [30.0, 29.0, 28.0, 27.0, 26.0, 25.0, 24.0, 23.0, 22.0, 21.0, 20.0, 19.0, 18.0, 17.0, 16.0, 15.0, 14.0, 13.0, 12.0, 11.0, 10.0, 9.0, 8.0, 7.0, 6.0, 5.0, 4.0, 3.0, 2.0, 1.0, -3.5485, -3.5486, -3.5486, -3.5486, -3.5486, -3.5486, -3.5486, -3.5486, -3.5486, -3.5486, -3.5486, -3.5487, -3.5487, -3.5487, -3.5494, -3.5497, -3.5497, -3.5497, -3.5497, -3.5498, -3.5498, -3.5498, -3.5498, -3.5498, -3.5499, -3.5501, -4.9255, -4.9255, -4.9268, -4.9269, -3.3858, -3.3858, -3.3858, -3.3858, -3.3858, -3.3858, -3.3858, -3.3858, -3.3859, -3.3859, -3.3859, -3.3859, -3.386, -3.386, -3.386, -3.386, -3.386, -2.8239, -4.7595, -4.7596, -4.7602, -4.7612, -4.7619, -4.7623, -4.7696, -4.7697, -4.7698, -4.7698, -4.7698, -4.7698, -4.7698, -4.7694, -4.7695, -4.7695, -4.7695, -4.7695, -3.385, -3.385, -3.385, -3.385, -3.385, -3.3862, -3.3862, -3.3863, -3.3863, -3.3866, -3.3868, -3.3866, -3.3867, -3.387, -3.3872, -3.3873, -3.3874, -2.8266, -4.7679, -4.7681, -4.7682, -4.7682, -4.7683, -4.7684, -4.7684, -4.7684, -4.7685, -4.7685, -4.7685, -4.7685, -4.7633, -4.7643, -4.7643, -4.7645, -4.7645, -4.7646, -4.7646, -4.7646, -4.7647, -4.7648, -4.765, -4.7658], \"loglift\": [30.0, 29.0, 28.0, 27.0, 26.0, 25.0, 24.0, 23.0, 22.0, 21.0, 20.0, 19.0, 18.0, 17.0, 16.0, 15.0, 14.0, 13.0, 12.0, 11.0, 10.0, 9.0, 8.0, 7.0, 6.0, 5.0, 4.0, 3.0, 2.0, 1.0, 0.5537, 0.5537, 0.5537, 0.5537, 0.5537, 0.5537, 0.5537, 0.5536, 0.5536, 0.5536, 0.5536, 0.5536, 0.5536, 0.5536, 0.5529, 0.5527, 0.5526, 0.5526, 0.5526, 0.5526, 0.5526, 0.5526, 0.5526, 0.5526, 0.5525, 0.5523, -0.7673, -0.7673, -0.7685, -0.7687, 0.7728, 0.7728, 0.7728, 0.7728, 0.7728, 0.7727, 0.7727, 0.7727, 0.7727, 0.7727, 0.7727, 0.7726, 0.7726, 0.7726, 0.7726, 0.7726, 0.7726, 0.43, -0.6011, -0.6012, -0.6018, -0.6028, -0.6035, -0.6039, -0.6112, -0.6113, -0.6114, -0.6114, -0.6114, -0.6115, -0.6115, -0.6671, -0.6671, -0.6671, -0.6672, -0.6672, 0.7734, 0.7734, 0.7733, 0.7733, 0.7733, 0.7721, 0.7721, 0.772, 0.772, 0.7717, 0.7716, 0.7716, 0.7716, 0.7714, 0.7712, 0.7711, 0.771, 0.4272, -0.6093, -0.6095, -0.6096, -0.6096, -0.6097, -0.6098, -0.6098, -0.6098, -0.6099, -0.6099, -0.6099, -0.61, -0.6609, -0.6619, -0.662, -0.6621, -0.6622, -0.6623, -0.6623, -0.6623, -0.6623, -0.6625, -0.6627, -0.6635]}, \"token.table\": {\"Topic\": [2, 3, 1, 1, 1, 2, 1, 2, 3, 1, 1, 1, 2, 1, 3, 3, 3, 3, 1, 3, 3, 1, 2, 2, 3, 1, 2, 1, 2, 1, 2, 2, 3, 1, 3, 2, 1, 2, 3, 3, 2, 1, 2, 1, 3, 3, 1, 2, 2, 1, 3, 1, 3, 1, 2, 2, 1, 3, 1, 1, 1, 1], \"Freq\": [0.9996835693053827, 0.9994923218088387, 0.9450404554547445, 0.9449604297130297, 0.9449588684940305, 0.9996879324103155, 0.9450421411093428, 0.9996783528836805, 0.9993876680947043, 0.9449588949147072, 0.9449629299934361, 0.9450372057877077, 0.9996871772409331, 0.9449632607599898, 0.9995021522047295, 0.9993974705690097, 0.9994865327006953, 0.9993598498446142, 0.9449554618003954, 0.9994832729131249, 0.9995060679589448, 0.9450398919768334, 0.999688782692805, 0.9996907262883127, 0.9995033873344192, 0.9450333520919606, 0.9996886045629222, 0.9449654351053624, 0.9996907301314559, 0.9449615772248444, 0.9996786092973053, 0.40451971429678163, 0.40451971429678163, 0.9450464483670256, 0.9994832446499882, 0.9996778165460121, 0.9449612812984253, 0.9996826561657174, 0.9993603025410589, 0.9994866323474695, 0.9996805080916646, 0.9450638282837718, 0.9996845097607153, 0.9449574505016981, 0.9993959311877323, 0.9993844536890966, 0.9450388932422664, 0.9996849354552263, 0.9996928336885156, 0.944958591919739, 0.9995065032937327, 0.9450354006976667, 0.9995052862018887, 0.9449614006411974, 0.9996899912911271, 0.9996768339352513, 0.9449623573478785, 0.9995031674457333, 0.9450386329244019, 0.9450370616387384, 0.9450176506882342, 0.9449583129420155], \"Term\": [\"amazon\", \"announce\", \"another\", \"cause\", \"city\", \"company\", \"condition\", \"country\", \"crisis\", \"cup\", \"damage\", \"demand\", \"discover\", \"earthquake\", \"eat\", \"economy\", \"energy\", \"financial\", \"football\", \"government\", \"health\", \"healthcare\", \"high\", \"hit\", \"improve\", \"launch\", \"lead\", \"major\", \"market\", \"massive\", \"neighboring\", \"new\", \"new\", \"orbit\", \"policy\", \"political\", \"prepare\", \"rainforest\", \"recovery\", \"renewable\", \"rise\", \"satellite\", \"scientist\", \"season\", \"show\", \"sign\", \"spacex\", \"specie\", \"stock\", \"strike\", \"study\", \"successfully\", \"suggest\", \"team\", \"tech\", \"tension\", \"upcoming\", \"vegetable\", \"well\", \"worker\", \"working\", \"world\"]}, \"R\": 30, \"lambda.step\": 0.01, \"plot.opts\": {\"xlab\": \"PC1\", \"ylab\": \"PC2\"}, \"topic.order\": [3, 2, 1]};\n",
              "\n",
              "function LDAvis_load_lib(url, callback){\n",
              "  var s = document.createElement('script');\n",
              "  s.src = url;\n",
              "  s.async = true;\n",
              "  s.onreadystatechange = s.onload = callback;\n",
              "  s.onerror = function(){console.warn(\"failed to load library \" + url);};\n",
              "  document.getElementsByTagName(\"head\")[0].appendChild(s);\n",
              "}\n",
              "\n",
              "if(typeof(LDAvis) !== \"undefined\"){\n",
              "   // already loaded: just create the visualization\n",
              "   !function(LDAvis){\n",
              "       new LDAvis(\"#\" + \"ldavis_el18371341851371667527668676284\", ldavis_el18371341851371667527668676284_data);\n",
              "   }(LDAvis);\n",
              "}else if(typeof define === \"function\" && define.amd){\n",
              "   // require.js is available: use it to load d3/LDAvis\n",
              "   require.config({paths: {d3: \"https://d3js.org/d3.v5\"}});\n",
              "   require([\"d3\"], function(d3){\n",
              "      window.d3 = d3;\n",
              "      LDAvis_load_lib(\"https://cdn.jsdelivr.net/gh/bmabey/pyLDAvis@3.4.0/pyLDAvis/js/ldavis.v3.0.0.js\", function(){\n",
              "        new LDAvis(\"#\" + \"ldavis_el18371341851371667527668676284\", ldavis_el18371341851371667527668676284_data);\n",
              "      });\n",
              "    });\n",
              "}else{\n",
              "    // require.js not available: dynamically load d3 & LDAvis\n",
              "    LDAvis_load_lib(\"https://d3js.org/d3.v5.js\", function(){\n",
              "         LDAvis_load_lib(\"https://cdn.jsdelivr.net/gh/bmabey/pyLDAvis@3.4.0/pyLDAvis/js/ldavis.v3.0.0.js\", function(){\n",
              "                 new LDAvis(\"#\" + \"ldavis_el18371341851371667527668676284\", ldavis_el18371341851371667527668676284_data);\n",
              "            })\n",
              "         });\n",
              "}\n",
              "</script>"
            ]
          },
          "metadata": {},
          "execution_count": 8
        }
      ]
    }
  ]
}