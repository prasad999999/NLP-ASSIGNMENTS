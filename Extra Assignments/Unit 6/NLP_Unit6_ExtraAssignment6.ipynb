{
  "nbformat": 4,
  "nbformat_minor": 0,
  "metadata": {
    "colab": {
      "provenance": []
    },
    "kernelspec": {
      "name": "python3",
      "display_name": "Python 3"
    },
    "language_info": {
      "name": "python"
    }
  },
  "cells": [
    {
      "cell_type": "code",
      "execution_count": null,
      "metadata": {
        "id": "Ggvxg7GJiGpm"
      },
      "outputs": [],
      "source": [
        "# Lab Assignment 6: Word Sense Disambiguation using Lesk Algorithm\n",
        "# •\tImplement the Lesk Algorithm for word sense disambiguation.\n",
        "# •\tTake an ambiguous word (e.g., \"bank\") and disambiguate its meaning based on context.\n",
        "# •\tUse WordNet for retrieving word definitions and related synsets."
      ]
    },
    {
      "cell_type": "code",
      "source": [
        "# Step 1: Install nltk and download WordNet data\n",
        "import nltk\n",
        "nltk.download('wordnet')\n",
        "nltk.download('omw-1.4')\n",
        "nltk.download('punkt_tab')"
      ],
      "metadata": {
        "colab": {
          "base_uri": "https://localhost:8080/"
        },
        "id": "Y-m8ks4fib0M",
        "outputId": "549b6940-ade1-4de4-fefa-97a13aa45c4b"
      },
      "execution_count": null,
      "outputs": [
        {
          "output_type": "stream",
          "name": "stderr",
          "text": [
            "[nltk_data] Downloading package wordnet to /root/nltk_data...\n",
            "[nltk_data] Downloading package omw-1.4 to /root/nltk_data...\n",
            "[nltk_data] Downloading package punkt_tab to /root/nltk_data...\n",
            "[nltk_data]   Unzipping tokenizers/punkt_tab.zip.\n"
          ]
        },
        {
          "output_type": "execute_result",
          "data": {
            "text/plain": [
              "True"
            ]
          },
          "metadata": {},
          "execution_count": 2
        }
      ]
    },
    {
      "cell_type": "code",
      "source": [
        "from nltk.corpus import wordnet as wn\n",
        "from nltk.tokenize import word_tokenize"
      ],
      "metadata": {
        "id": "fH-NngthifJS"
      },
      "execution_count": null,
      "outputs": []
    },
    {
      "cell_type": "code",
      "source": [
        "# Lesk Algorithm implementation\n",
        "def lesk_algorithm(context_sentence, ambiguous_word):\n",
        "    max_overlap = 0\n",
        "    best_sense = None\n",
        "    context = set(word_tokenize(context_sentence.lower()))\n",
        "\n",
        "    for sense in wn.synsets(ambiguous_word):\n",
        "        # Get definition and examples for the sense\n",
        "        signature = set(word_tokenize(sense.definition()))\n",
        "        for example in sense.examples():\n",
        "            signature.update(word_tokenize(example))\n",
        "\n",
        "        # Calculate overlap\n",
        "        overlap = len(context.intersection(signature))\n",
        "\n",
        "        if overlap > max_overlap:\n",
        "            max_overlap = overlap\n",
        "            best_sense = sense\n",
        "\n",
        "    return best_sense"
      ],
      "metadata": {
        "id": "_MLOaxTQihg0"
      },
      "execution_count": null,
      "outputs": []
    },
    {
      "cell_type": "code",
      "source": [
        "# Test sentences with the ambiguous word \"bank\"\n",
        "sentences = [\n",
        "    \"He deposited cash in the bank\",\n",
        "    \"They sat on the river bank and had a picnic\"\n",
        "]\n",
        "\n",
        "ambiguous_word = \"bank\"\n",
        "\n",
        "for sentence in sentences:\n",
        "    best_sense = lesk_algorithm(sentence, ambiguous_word)\n",
        "    print(f\"Sentence: {sentence}\")\n",
        "    if best_sense:\n",
        "        print(f\"Predicted Sense: {best_sense.name()}\")\n",
        "        print(f\"Definition: {best_sense.definition()}\\n\")\n",
        "    else:\n",
        "        print(\"No suitable sense found.\\n\")"
      ],
      "metadata": {
        "colab": {
          "base_uri": "https://localhost:8080/"
        },
        "id": "tjNF1Wt3ikk1",
        "outputId": "265be814-4e0f-4ebd-cc0e-f2d29cb0883d"
      },
      "execution_count": null,
      "outputs": [
        {
          "output_type": "stream",
          "name": "stdout",
          "text": [
            "Sentence: He deposited cash in the bank\n",
            "Predicted Sense: bank.n.06\n",
            "Definition: the funds held by a gambling house or the dealer in some gambling games\n",
            "\n",
            "Sentence: They sat on the river bank and had a picnic\n",
            "Predicted Sense: bank.n.01\n",
            "Definition: sloping land (especially the slope beside a body of water)\n",
            "\n"
          ]
        }
      ]
    },
    {
      "cell_type": "code",
      "source": [
        "# Test sentences with the ambiguous word \"amazon\"\n",
        "sentences = [\n",
        "    \"Amazon is the largest service provider\",\n",
        "    \"Amazon is the longest river in the world\"\n",
        "]\n",
        "\n",
        "ambiguous_word = \"amazon\"\n",
        "\n",
        "for sentence in sentences:\n",
        "    best_sense = lesk_algorithm(sentence, ambiguous_word)\n",
        "    print(f\"Sentence: {sentence}\")\n",
        "    if best_sense:\n",
        "        print(f\"Predicted Sense: {best_sense.name()}\")\n",
        "        print(f\"Definition: {best_sense.definition()}\\n\")\n",
        "    else:\n",
        "        print(\"No suitable sense found.\\n\")"
      ],
      "metadata": {
        "colab": {
          "base_uri": "https://localhost:8080/"
        },
        "id": "OmhjnYCijJXy",
        "outputId": "36a40c9d-694b-43b4-80c8-abbdb7800a29"
      },
      "execution_count": null,
      "outputs": [
        {
          "output_type": "stream",
          "name": "stdout",
          "text": [
            "Sentence: Amazon is the largest service provider\n",
            "Predicted Sense: amazon.n.02\n",
            "Definition: (Greek mythology) one of a nation of women warriors of Scythia (who burned off the right breast in order to use a bow and arrow more effectively)\n",
            "\n",
            "Sentence: Amazon is the longest river in the world\n",
            "Predicted Sense: amazon.n.03\n",
            "Definition: a major South American river; arises in the Andes and flows eastward into the South Atlantic; the world's 2nd longest river (4000 miles)\n",
            "\n"
          ]
        }
      ]
    }
  ]
}