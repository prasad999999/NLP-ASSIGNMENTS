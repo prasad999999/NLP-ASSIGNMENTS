{
  "nbformat": 4,
  "nbformat_minor": 0,
  "metadata": {
    "colab": {
      "provenance": []
    },
    "kernelspec": {
      "name": "python3",
      "display_name": "Python 3"
    },
    "language_info": {
      "name": "python"
    }
  },
  "cells": [
    {
      "cell_type": "code",
      "execution_count": null,
      "metadata": {
        "id": "_i7zlQ1vVF6s"
      },
      "outputs": [],
      "source": [
        "# Lab Assignment 3: Morphological Analysis using Finite State Transducers (FST)\n",
        "# •\tImplement morphological parsing using a Finite State Transducer (FST).\n",
        "# •\tTake a list of words and break them into their morphemes (root, affix, suffix).\n",
        "# •\tExample: running → run + ing, happier → happy + er."
      ]
    },
    {
      "cell_type": "code",
      "source": [
        "import re"
      ],
      "metadata": {
        "id": "wDYOY4yzVdvy"
      },
      "execution_count": null,
      "outputs": []
    },
    {
      "cell_type": "code",
      "source": [
        "# Sample input list of words\n",
        "words = ['running', 'played', 'happier', 'fastest', 'talks', 'unhappy', 'redo', 'kindness']"
      ],
      "metadata": {
        "id": "aJfsATHlVfeS"
      },
      "execution_count": null,
      "outputs": []
    },
    {
      "cell_type": "code",
      "source": [
        "# Define suffixes and prefixes\n",
        "suffixes = ['ing', 'ed', 'er', 'est', 's', 'ness']\n",
        "prefixes = ['un', 're', 'in', 'dis']"
      ],
      "metadata": {
        "id": "u7R5mEh1Vimf"
      },
      "execution_count": null,
      "outputs": []
    },
    {
      "cell_type": "code",
      "source": [
        "# Root word dictionary (mock - can be extended)\n",
        "root_words = ['run', 'play', 'happy', 'fast', 'talk', 'do', 'kind']"
      ],
      "metadata": {
        "id": "LC5MIGWwVk47"
      },
      "execution_count": null,
      "outputs": []
    },
    {
      "cell_type": "code",
      "source": [
        "# Function to simulate FST-based morphological parsing\n",
        "def morphological_parser(word):\n",
        "    parsed = []\n",
        "\n",
        "    # Step 1: Check for prefix\n",
        "    prefix_found = ''\n",
        "    for prefix in prefixes:\n",
        "        if word.startswith(prefix):\n",
        "            prefix_found = prefix\n",
        "            word = word[len(prefix):]\n",
        "            parsed.append(prefix_found)\n",
        "            break\n",
        "\n",
        "    # Step 2: Check for suffix\n",
        "    suffix_found = ''\n",
        "    for suffix in suffixes:\n",
        "        if word.endswith(suffix):\n",
        "            suffix_found = suffix\n",
        "            stem_candidate = word[:-len(suffix)]\n",
        "            if stem_candidate in root_words:\n",
        "                parsed.append(stem_candidate)\n",
        "                parsed.append(suffix_found)\n",
        "                return ' + '.join(parsed)\n",
        "            else:\n",
        "                word = stem_candidate\n",
        "                parsed.append(stem_candidate)\n",
        "                parsed.append(suffix_found)\n",
        "                return ' + '.join(parsed)\n",
        "\n",
        "    # Step 3: If no affix matched, check if it's a root word\n",
        "    if word in root_words:\n",
        "        parsed.append(word)\n",
        "    else:\n",
        "        parsed.append(\"[unknown-root: \" + word + \"]\")\n",
        "\n",
        "    return ' + '.join(parsed)\n",
        "\n",
        "# Apply parser to all words\n",
        "print(\"Morphological Analysis using FST\\n\")\n",
        "for w in words:\n",
        "    result = morphological_parser(w)\n",
        "    print(f\"{w} → {result}\")"
      ],
      "metadata": {
        "colab": {
          "base_uri": "https://localhost:8080/"
        },
        "id": "eElyY-ObVnTg",
        "outputId": "58ee9d4b-b10b-4500-d7f9-eb9846221b4c"
      },
      "execution_count": null,
      "outputs": [
        {
          "output_type": "stream",
          "name": "stdout",
          "text": [
            "Morphological Analysis using FST\n",
            "\n",
            "running → runn + ing\n",
            "played → play + ed\n",
            "happier → happi + er\n",
            "fastest → fast + est\n",
            "talks → talk + s\n",
            "unhappy → un + happy\n",
            "redo → re + do\n",
            "kindness → kindnes + s\n"
          ]
        }
      ]
    }
  ]
}