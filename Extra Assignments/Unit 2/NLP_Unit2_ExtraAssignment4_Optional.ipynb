{
  "nbformat": 4,
  "nbformat_minor": 0,
  "metadata": {
    "colab": {
      "provenance": []
    },
    "kernelspec": {
      "name": "python3",
      "display_name": "Python 3"
    },
    "language_info": {
      "name": "python"
    }
  },
  "cells": [
    {
      "cell_type": "code",
      "execution_count": null,
      "metadata": {
        "id": "kSQSQj2Kc9ot"
      },
      "outputs": [],
      "source": [
        "# Lab Assignment 4: Probabilistic Parsing with CYK Algorithm and Neural Dependency Parsing\n",
        "# •\tImplement the Cocke-Younger-Kasami (CYK) algorithm for parsing Context-Free Grammars (CFGs).\n",
        "# •\tTrain a Neural Dependency Parser (e.g., using Stanza or spaCy) on a dataset like Universal Dependencies.\n",
        "# •\tCompare traditional parsing algorithms with neural parsing models in terms of accuracy and efficiency."
      ]
    },
    {
      "cell_type": "code",
      "source": [
        "# Step 1: Install Required Libraries\n",
        "!pip install spacy nltk benepar --quiet\n",
        "!python -m nltk.downloader punkt\n",
        "!python -m spacy download en_core_web_sm"
      ],
      "metadata": {
        "colab": {
          "base_uri": "https://localhost:8080/"
        },
        "id": "hZrWIPNKdKBm",
        "outputId": "9d757c52-5565-4876-ba14-b00e4b6a080f"
      },
      "execution_count": null,
      "outputs": [
        {
          "output_type": "stream",
          "name": "stdout",
          "text": [
            "  Preparing metadata (setup.py) ... \u001b[?25l\u001b[?25hdone\n",
            "\u001b[33mWARNING: Retrying (Retry(total=4, connect=None, read=None, redirect=None, status=None)) after connection broken by 'ProtocolError('Connection aborted.', RemoteDisconnected('Remote end closed connection without response'))': /simple/nvidia-cuda-runtime-cu12/\u001b[0m\u001b[33m\n",
            "\u001b[2K   \u001b[90m━━━━━━━━━━━━━━━━━━━━━━━━━━━━━━━━━━━━━━━━\u001b[0m \u001b[32m363.4/363.4 MB\u001b[0m \u001b[31m3.9 MB/s\u001b[0m eta \u001b[36m0:00:00\u001b[0m\n",
            "\u001b[2K   \u001b[90m━━━━━━━━━━━━━━━━━━━━━━━━━━━━━━━━━━━━━━━━\u001b[0m \u001b[32m13.8/13.8 MB\u001b[0m \u001b[31m89.2 MB/s\u001b[0m eta \u001b[36m0:00:00\u001b[0m\n",
            "\u001b[2K   \u001b[90m━━━━━━━━━━━━━━━━━━━━━━━━━━━━━━━━━━━━━━━━\u001b[0m \u001b[32m24.6/24.6 MB\u001b[0m \u001b[31m72.5 MB/s\u001b[0m eta \u001b[36m0:00:00\u001b[0m\n",
            "\u001b[2K   \u001b[90m━━━━━━━━━━━━━━━━━━━━━━━━━━━━━━━━━━━━━━━━\u001b[0m \u001b[32m883.7/883.7 kB\u001b[0m \u001b[31m36.6 MB/s\u001b[0m eta \u001b[36m0:00:00\u001b[0m\n",
            "\u001b[2K   \u001b[90m━━━━━━━━━━━━━━━━━━━━━━━━━━━━━━━━━━━━━━━━\u001b[0m \u001b[32m664.8/664.8 MB\u001b[0m \u001b[31m1.9 MB/s\u001b[0m eta \u001b[36m0:00:00\u001b[0m\n",
            "\u001b[2K   \u001b[90m━━━━━━━━━━━━━━━━━━━━━━━━━━━━━━━━━━━━━━━━\u001b[0m \u001b[32m211.5/211.5 MB\u001b[0m \u001b[31m5.6 MB/s\u001b[0m eta \u001b[36m0:00:00\u001b[0m\n",
            "\u001b[2K   \u001b[90m━━━━━━━━━━━━━━━━━━━━━━━━━━━━━━━━━━━━━━━━\u001b[0m \u001b[32m56.3/56.3 MB\u001b[0m \u001b[31m12.3 MB/s\u001b[0m eta \u001b[36m0:00:00\u001b[0m\n",
            "\u001b[2K   \u001b[90m━━━━━━━━━━━━━━━━━━━━━━━━━━━━━━━━━━━━━━━━\u001b[0m \u001b[32m127.9/127.9 MB\u001b[0m \u001b[31m7.1 MB/s\u001b[0m eta \u001b[36m0:00:00\u001b[0m\n",
            "\u001b[2K   \u001b[90m━━━━━━━━━━━━━━━━━━━━━━━━━━━━━━━━━━━━━━━━\u001b[0m \u001b[32m207.5/207.5 MB\u001b[0m \u001b[31m6.2 MB/s\u001b[0m eta \u001b[36m0:00:00\u001b[0m\n",
            "\u001b[2K   \u001b[90m━━━━━━━━━━━━━━━━━━━━━━━━━━━━━━━━━━━━━━━━\u001b[0m \u001b[32m21.1/21.1 MB\u001b[0m \u001b[31m55.4 MB/s\u001b[0m eta \u001b[36m0:00:00\u001b[0m\n",
            "\u001b[?25h  Building wheel for benepar (setup.py) ... \u001b[?25l\u001b[?25hdone\n",
            "<frozen runpy>:128: RuntimeWarning: 'nltk.downloader' found in sys.modules after import of package 'nltk', but prior to execution of 'nltk.downloader'; this may result in unpredictable behaviour\n",
            "[nltk_data] Downloading package punkt to /root/nltk_data...\n",
            "[nltk_data]   Unzipping tokenizers/punkt.zip.\n",
            "Collecting en-core-web-sm==3.8.0\n",
            "  Downloading https://github.com/explosion/spacy-models/releases/download/en_core_web_sm-3.8.0/en_core_web_sm-3.8.0-py3-none-any.whl (12.8 MB)\n",
            "\u001b[2K     \u001b[90m━━━━━━━━━━━━━━━━━━━━━━━━━━━━━━━━━━━━━━━━\u001b[0m \u001b[32m12.8/12.8 MB\u001b[0m \u001b[31m65.1 MB/s\u001b[0m eta \u001b[36m0:00:00\u001b[0m\n",
            "\u001b[?25h\u001b[38;5;2m✔ Download and installation successful\u001b[0m\n",
            "You can now load the package via spacy.load('en_core_web_sm')\n",
            "\u001b[38;5;3m⚠ Restart to reload dependencies\u001b[0m\n",
            "If you are in a Jupyter or Colab notebook, you may need to restart Python in\n",
            "order to load all the package's dependencies. You can do this by selecting the\n",
            "'Restart kernel' or 'Restart runtime' option.\n"
          ]
        }
      ]
    },
    {
      "cell_type": "code",
      "source": [
        "# Step 2: CYK Algorithm for Probabilistic Parsing\n",
        "# Simple CFG in CNF format\n",
        "grammar = {\n",
        "    \"S\": [(\"NP\", \"VP\")],\n",
        "    \"VP\": [(\"V\", \"NP\")],\n",
        "    \"NP\": [(\"Det\", \"N\")],\n",
        "    \"Det\": [(\"the\",)],\n",
        "    \"N\": [(\"cat\",), (\"dog\",)],\n",
        "    \"V\": [(\"chased\",), (\"saw\",)],\n",
        "}\n",
        "\n",
        "# Sentence to parse\n",
        "sentence = \"the cat chased the dog\".split()"
      ],
      "metadata": {
        "id": "YkeyITKIdT0k"
      },
      "execution_count": null,
      "outputs": []
    },
    {
      "cell_type": "code",
      "source": [
        "def cyk_parser(sentence, grammar):\n",
        "    n = len(sentence)\n",
        "    table = [[set() for _ in range(n)] for _ in range(n)]\n",
        "\n",
        "    # Fill in the table for words (1-length substrings)\n",
        "    for j in range(n):\n",
        "        for lhs, rhs_list in grammar.items():\n",
        "            for rhs in rhs_list:\n",
        "                if len(rhs) == 1 and rhs[0] == sentence[j]:\n",
        "                    table[j][j].add(lhs)\n",
        "\n",
        "    # Fill in the rest of the table\n",
        "    for span in range(2, n + 1):  # span length\n",
        "        for start in range(n - span + 1):\n",
        "            end = start + span - 1\n",
        "            for split in range(start, end):\n",
        "                left_cell = table[start][split]\n",
        "                right_cell = table[split + 1][end]\n",
        "                for lhs, rhs_list in grammar.items():\n",
        "                    for rhs in rhs_list:\n",
        "                        if len(rhs) == 2:\n",
        "                            if rhs[0] in left_cell and rhs[1] in right_cell:\n",
        "                                table[start][end].add(lhs)\n",
        "\n",
        "    return table, \"S\" in table[0][n - 1]\n",
        "\n",
        "# Run CYK parser\n",
        "table, is_valid = cyk_parser(sentence, grammar)\n",
        "print(\"CYK Parse Table:\")\n",
        "for row in table:\n",
        "    print(row)\n",
        "\n",
        "print(\"\\nCYK Output:\", \"Valid parse\" if is_valid else \"Invalid sentence\")"
      ],
      "metadata": {
        "colab": {
          "base_uri": "https://localhost:8080/"
        },
        "id": "JRvU5aycdbbN",
        "outputId": "ec56431d-4eed-4268-d511-c317791d3d66"
      },
      "execution_count": null,
      "outputs": [
        {
          "output_type": "stream",
          "name": "stdout",
          "text": [
            "CYK Parse Table:\n",
            "[{'Det'}, {'NP'}, set(), set(), {'S'}]\n",
            "[set(), {'N'}, set(), set(), set()]\n",
            "[set(), set(), {'V'}, set(), {'VP'}]\n",
            "[set(), set(), set(), {'Det'}, {'NP'}]\n",
            "[set(), set(), set(), set(), {'N'}]\n",
            "\n",
            "CYK Output: Valid parse\n"
          ]
        }
      ]
    },
    {
      "cell_type": "code",
      "source": [
        "# Step 3: Neural Dependency Parsing using spaCy\n",
        "import spacy\n",
        "from spacy import displacy\n",
        "\n",
        "# Load spaCy model\n",
        "nlp = spacy.load(\"en_core_web_sm\")\n",
        "\n",
        "# Parse the same sentence\n",
        "doc = nlp(\"The cat chased the dog.\")\n",
        "\n",
        "# Display dependencies\n",
        "print(\"\\nDependency Parse Tree:\")\n",
        "for token in doc:\n",
        "    print(f\"{token.text:<10} {token.dep_:<10} {token.head.text:<10} POS: {token.pos_}\")\n",
        "\n",
        "# Visualize in Colab\n",
        "displacy.render(doc, style='dep', jupyter=True, options={'compact': True})"
      ],
      "metadata": {
        "colab": {
          "base_uri": "https://localhost:8080/",
          "height": 447
        },
        "id": "h29MqdAYdfU2",
        "outputId": "1e58c9c4-6ca5-41b4-f0b9-69deef15714f"
      },
      "execution_count": null,
      "outputs": [
        {
          "output_type": "stream",
          "name": "stdout",
          "text": [
            "\n",
            "Dependency Parse Tree:\n",
            "The        det        cat        POS: DET\n",
            "cat        nsubj      chased     POS: NOUN\n",
            "chased     ROOT       chased     POS: VERB\n",
            "the        det        dog        POS: DET\n",
            "dog        dobj       chased     POS: NOUN\n",
            ".          punct      chased     POS: PUNCT\n"
          ]
        },
        {
          "output_type": "display_data",
          "data": {
            "text/plain": [
              "<IPython.core.display.HTML object>"
            ],
            "text/html": [
              "<span class=\"tex2jax_ignore\"><svg xmlns=\"http://www.w3.org/2000/svg\" xmlns:xlink=\"http://www.w3.org/1999/xlink\" xml:lang=\"en\" id=\"2d62f4e9c5324a18b4ed853fea6a7466-0\" class=\"displacy\" width=\"800\" height=\"287.0\" direction=\"ltr\" style=\"max-width: none; height: 287.0px; color: #000000; background: #ffffff; font-family: Arial; direction: ltr\">\n",
              "<text class=\"displacy-token\" fill=\"currentColor\" text-anchor=\"middle\" y=\"197.0\">\n",
              "    <tspan class=\"displacy-word\" fill=\"currentColor\" x=\"50\">The</tspan>\n",
              "    <tspan class=\"displacy-tag\" dy=\"2em\" fill=\"currentColor\" x=\"50\">DET</tspan>\n",
              "</text>\n",
              "\n",
              "<text class=\"displacy-token\" fill=\"currentColor\" text-anchor=\"middle\" y=\"197.0\">\n",
              "    <tspan class=\"displacy-word\" fill=\"currentColor\" x=\"200\">cat</tspan>\n",
              "    <tspan class=\"displacy-tag\" dy=\"2em\" fill=\"currentColor\" x=\"200\">NOUN</tspan>\n",
              "</text>\n",
              "\n",
              "<text class=\"displacy-token\" fill=\"currentColor\" text-anchor=\"middle\" y=\"197.0\">\n",
              "    <tspan class=\"displacy-word\" fill=\"currentColor\" x=\"350\">chased</tspan>\n",
              "    <tspan class=\"displacy-tag\" dy=\"2em\" fill=\"currentColor\" x=\"350\">VERB</tspan>\n",
              "</text>\n",
              "\n",
              "<text class=\"displacy-token\" fill=\"currentColor\" text-anchor=\"middle\" y=\"197.0\">\n",
              "    <tspan class=\"displacy-word\" fill=\"currentColor\" x=\"500\">the</tspan>\n",
              "    <tspan class=\"displacy-tag\" dy=\"2em\" fill=\"currentColor\" x=\"500\">DET</tspan>\n",
              "</text>\n",
              "\n",
              "<text class=\"displacy-token\" fill=\"currentColor\" text-anchor=\"middle\" y=\"197.0\">\n",
              "    <tspan class=\"displacy-word\" fill=\"currentColor\" x=\"650\">dog.</tspan>\n",
              "    <tspan class=\"displacy-tag\" dy=\"2em\" fill=\"currentColor\" x=\"650\">NOUN</tspan>\n",
              "</text>\n",
              "\n",
              "<g class=\"displacy-arrow\">\n",
              "    <path class=\"displacy-arc\" id=\"arrow-2d62f4e9c5324a18b4ed853fea6a7466-0-0\" stroke-width=\"2px\" d=\"M62,152.0 62,127.0 197.0,127.0 197.0,152.0\" fill=\"none\" stroke=\"currentColor\"/>\n",
              "    <text dy=\"1.25em\" style=\"font-size: 0.8em; letter-spacing: 1px\">\n",
              "        <textPath xlink:href=\"#arrow-2d62f4e9c5324a18b4ed853fea6a7466-0-0\" class=\"displacy-label\" startOffset=\"50%\" side=\"left\" fill=\"currentColor\" text-anchor=\"middle\">det</textPath>\n",
              "    </text>\n",
              "    <path class=\"displacy-arrowhead\" d=\"M62,154.0 L58,146.0 66,146.0\" fill=\"currentColor\"/>\n",
              "</g>\n",
              "\n",
              "<g class=\"displacy-arrow\">\n",
              "    <path class=\"displacy-arc\" id=\"arrow-2d62f4e9c5324a18b4ed853fea6a7466-0-1\" stroke-width=\"2px\" d=\"M212,152.0 212,127.0 347.0,127.0 347.0,152.0\" fill=\"none\" stroke=\"currentColor\"/>\n",
              "    <text dy=\"1.25em\" style=\"font-size: 0.8em; letter-spacing: 1px\">\n",
              "        <textPath xlink:href=\"#arrow-2d62f4e9c5324a18b4ed853fea6a7466-0-1\" class=\"displacy-label\" startOffset=\"50%\" side=\"left\" fill=\"currentColor\" text-anchor=\"middle\">nsubj</textPath>\n",
              "    </text>\n",
              "    <path class=\"displacy-arrowhead\" d=\"M212,154.0 L208,146.0 216,146.0\" fill=\"currentColor\"/>\n",
              "</g>\n",
              "\n",
              "<g class=\"displacy-arrow\">\n",
              "    <path class=\"displacy-arc\" id=\"arrow-2d62f4e9c5324a18b4ed853fea6a7466-0-2\" stroke-width=\"2px\" d=\"M512,152.0 512,127.0 647.0,127.0 647.0,152.0\" fill=\"none\" stroke=\"currentColor\"/>\n",
              "    <text dy=\"1.25em\" style=\"font-size: 0.8em; letter-spacing: 1px\">\n",
              "        <textPath xlink:href=\"#arrow-2d62f4e9c5324a18b4ed853fea6a7466-0-2\" class=\"displacy-label\" startOffset=\"50%\" side=\"left\" fill=\"currentColor\" text-anchor=\"middle\">det</textPath>\n",
              "    </text>\n",
              "    <path class=\"displacy-arrowhead\" d=\"M512,154.0 L508,146.0 516,146.0\" fill=\"currentColor\"/>\n",
              "</g>\n",
              "\n",
              "<g class=\"displacy-arrow\">\n",
              "    <path class=\"displacy-arc\" id=\"arrow-2d62f4e9c5324a18b4ed853fea6a7466-0-3\" stroke-width=\"2px\" d=\"M362,152.0 362,102.0 650.0,102.0 650.0,152.0\" fill=\"none\" stroke=\"currentColor\"/>\n",
              "    <text dy=\"1.25em\" style=\"font-size: 0.8em; letter-spacing: 1px\">\n",
              "        <textPath xlink:href=\"#arrow-2d62f4e9c5324a18b4ed853fea6a7466-0-3\" class=\"displacy-label\" startOffset=\"50%\" side=\"left\" fill=\"currentColor\" text-anchor=\"middle\">dobj</textPath>\n",
              "    </text>\n",
              "    <path class=\"displacy-arrowhead\" d=\"M650.0,154.0 L654.0,146.0 646.0,146.0\" fill=\"currentColor\"/>\n",
              "</g>\n",
              "</svg></span>"
            ]
          },
          "metadata": {}
        }
      ]
    },
    {
      "cell_type": "code",
      "source": [
        "# Step 4: Compare CYK vs Neural Parsing\n",
        "print(\"\\n🔁 Comparison Summary\")\n",
        "print(\"-\" * 40)\n",
        "print(\"Approach           | Output\")\n",
        "print(\"-\" * 40)\n",
        "print(f\"CYK Parser         | {'Valid parse' if is_valid else 'Invalid'}\")\n",
        "print(\"Neural Parser      | Dependency tree shown above\")\n",
        "print(\"\\nCYK is rule-based, slow for large grammars.\\nNeural models are faster, data-driven, and more scalable.\")"
      ],
      "metadata": {
        "colab": {
          "base_uri": "https://localhost:8080/"
        },
        "id": "-HrbFLJmdnGZ",
        "outputId": "2e2f4c8f-ca3b-40aa-bb43-d67d76f39172"
      },
      "execution_count": null,
      "outputs": [
        {
          "output_type": "stream",
          "name": "stdout",
          "text": [
            "\n",
            "🔁 Comparison Summary\n",
            "----------------------------------------\n",
            "Approach           | Output\n",
            "----------------------------------------\n",
            "CYK Parser         | Valid parse\n",
            "Neural Parser      | Dependency tree shown above\n",
            "\n",
            "CYK is rule-based, slow for large grammars.\n",
            "Neural models are faster, data-driven, and more scalable.\n"
          ]
        }
      ]
    }
  ]
}